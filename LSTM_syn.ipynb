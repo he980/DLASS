{
 "cells": [
  {
   "cell_type": "code",
   "execution_count": 1,
   "id": "635aa2c2",
   "metadata": {},
   "outputs": [],
   "source": [
    "\n",
    "import numpy as np\n",
    "import pandas as pd\n",
    "import matplotlib.pyplot as plt\n",
    "import seaborn as sns\n",
    "from sklearn.preprocessing import MinMaxScaler\n",
    "from sklearn.metrics import mean_squared_error\n",
    "from tensorflow.keras.models import Sequential\n",
    "from tensorflow.keras.layers import LSTM, Dense, Dropout\n",
    "from tensorflow.keras.callbacks import EarlyStopping"
   ]
  },
  {
   "cell_type": "code",
   "execution_count": 2,
   "id": "308b775e",
   "metadata": {},
   "outputs": [],
   "source": [
    "def generate_weather_data(days=365*5):\n",
    "    dates = pd.date_range(start='2010-01-01', periods=days)\n",
    "    data = {\n",
    "        'temp': np.sin(2 * np.pi * np.arange(days)/365) * 20 + 25 + np.random.normal(0, 3, days),\n",
    "        'humidity': np.cos(2 * np.pi * np.arange(days)/365) * 20 + 50 + np.random.normal(0, 5, days),\n",
    "        'pressure': np.random.normal(1013, 10, days),\n",
    "        'precipitation': np.random.exponential(0.1, days)\n",
    "    }\n",
    "    df = pd.DataFrame(data, index=dates)\n",
    "    return df"
   ]
  },
  {
   "cell_type": "code",
   "execution_count": 3,
   "id": "3c0329a7",
   "metadata": {},
   "outputs": [],
   "source": [
    "weather_df = generate_weather_data()\n",
    "features = ['temp', 'humidity', 'pressure', 'precipitation']\n"
   ]
  },
  {
   "cell_type": "code",
   "execution_count": 4,
   "id": "ade3ce4d",
   "metadata": {},
   "outputs": [],
   "source": [
    "scaler = MinMaxScaler(feature_range=(0, 1))\n",
    "scaled_data = scaler.fit_transform(weather_df[features])"
   ]
  },
  {
   "cell_type": "code",
   "execution_count": 5,
   "id": "815e59d0",
   "metadata": {},
   "outputs": [],
   "source": [
    "def create_sequences(data, n_steps):\n",
    "    X, y = [], []\n",
    "    for i in range(len(data)-n_steps-1):\n",
    "        X.append(data[i:(i+n_steps), :])\n",
    "        y.append(data[i+n_steps, 0])  # Predict temperature\n",
    "    return np.array(X), np.array(y)\n",
    "\n",
    "n_steps = 30  # Use 30 days to predict next day\n",
    "X, y = create_sequences(scaled_data, n_steps)"
   ]
  },
  {
   "cell_type": "code",
   "execution_count": 6,
   "id": "3a7b2c78",
   "metadata": {},
   "outputs": [],
   "source": [
    "split = int(0.8 * len(X))\n",
    "X_train, X_test = X[:split], X[split:]\n",
    "y_train, y_test = y[:split], y[split:]"
   ]
  },
  {
   "cell_type": "code",
   "execution_count": 7,
   "id": "eb7d24bf",
   "metadata": {},
   "outputs": [
    {
     "ename": "SyntaxError",
     "evalue": "closing parenthesis ')' does not match opening parenthesis '[' on line 1 (197742223.py, line 5)",
     "output_type": "error",
     "traceback": [
      "  \u001b[36mCell\u001b[39m\u001b[36m \u001b[39m\u001b[32mIn[7]\u001b[39m\u001b[32m, line 5\u001b[39m\n\u001b[31m    \u001b[39m\u001b[31mLSTM(50, return_sequences=False)),\u001b[39m\n                                    ^\n\u001b[31mSyntaxError\u001b[39m\u001b[31m:\u001b[39m closing parenthesis ')' does not match opening parenthesis '[' on line 1\n"
     ]
    }
   ],
   "source": [
    "model = Sequential ([\n",
    "\n",
    "    LSTM(100, return_sequences=True, input_shape=(n_steps, X_train.shape[2])),\n",
    "    Dropout(0.3),\n",
    "    LSTM(50, return_sequences=False)),\n",
    "    Dropout(0.3),\n",
    "    Dense(25, activation='relu'),\n",
    "    Dense(1) \n",
    "])\n"
   ]
  },
  {
   "cell_type": "code",
   "execution_count": null,
   "id": "28416370",
   "metadata": {},
   "outputs": [],
   "source": [
    "model.compile(optimizer='adam',loss='mse', metrics=['mae'])\n",
    "early_stop = EarlyStopping(monitor='val_loss', patience=10)\n"
   ]
  },
  {
   "cell_type": "code",
   "execution_count": null,
   "id": "4370c982",
   "metadata": {},
   "outputs": [],
   "source": [
    "history = model.fit(X_train, y_train,\n",
    "                    epochs=100,\n",
    "                    batch_size=64,\n",
    "                    validation_split=0.2,\n",
    "                    callbacks=[early_stop],\n",
    "                    verbose=1)"
   ]
  },
  {
   "cell_type": "code",
   "execution_count": null,
   "id": "82d262bf",
   "metadata": {},
   "outputs": [],
   "source": [
    "test_predictions = model.predict(X_test)\n",
    "test_predictions = scaler.inverse_transform(\n",
    "    np.concatenate((test_predictions, np.zeros((len(test_predictions), len(features)-1))), axis=1)\n",
    ")[:, 0]\n",
    "\n",
    "y_test_actual = scaler.inverse_transform(\n",
    "    np.concatenate((y_test.reshape(-1,1), np.zeros((len(y_test), len(features)-1))), axis=1)\n",
    ")[:, 0]"
   ]
  },
  {
   "cell_type": "code",
   "execution_count": null,
   "id": "23a64530",
   "metadata": {},
   "outputs": [],
   "source": [
    "plt.figure(figsize=(18, 12))"
   ]
  },
  {
   "cell_type": "code",
   "execution_count": null,
   "id": "d7d487c5",
   "metadata": {},
   "outputs": [],
   "source": [
    "plt.subplot(2, 2, 1)\n",
    "sns.heatmap(weather_df.corr(), annot=True, cmap='coolwarm')\n",
    "plt.title('Feature Correlation Matrix')"
   ]
  },
  {
   "cell_type": "code",
   "execution_count": null,
   "id": "80d36d3b",
   "metadata": {},
   "outputs": [],
   "source": [
    "plt.subplot(2, 2, 2)\n",
    "plt.plot(history.history['loss'], label='Train Loss')\n",
    "plt.plot(history.history['val_loss'], label='Validation Loss')\n",
    "plt.title('Training History')\n",
    "plt.legend()"
   ]
  },
  {
   "cell_type": "code",
   "execution_count": null,
   "id": "7baf3164",
   "metadata": {},
   "outputs": [],
   "source": [
    "plt.subplot(2, 2, 3)\n",
    "plt.plot(y_test_actual, label='Actual Temperature')\n",
    "plt.plot(test_predictions, label='Predicted Temperature')\n",
    "plt.title('Temperature Predictions')\n",
    "plt.legend()"
   ]
  }
 ],
 "metadata": {
  "kernelspec": {
   "display_name": "env",
   "language": "python",
   "name": "python3"
  },
  "language_info": {
   "codemirror_mode": {
    "name": "ipython",
    "version": 3
   },
   "file_extension": ".py",
   "mimetype": "text/x-python",
   "name": "python",
   "nbconvert_exporter": "python",
   "pygments_lexer": "ipython3",
   "version": "3.12.2"
  }
 },
 "nbformat": 4,
 "nbformat_minor": 5
}
